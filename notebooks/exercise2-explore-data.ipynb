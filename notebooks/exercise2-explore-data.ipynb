{
  "cells": [
    {
      "cell_type": "markdown",
      "metadata": {
        "id": "EW62iwLbzw5h"
      },
      "source": [
        "# Exercise 2 - Explore data using pandas\n",
        "\n",
        "Go to the website https://worldpopulationreview.com and download the *World Population* data as a csv file, or simply use our local copy stored in `./data/world-population-2022.csv`"
      ]
    },
    {
      "cell_type": "code",
      "execution_count": 1,
      "metadata": {
        "id": "zVIth49Nzw5i"
      },
      "outputs": [],
      "source": [
        "import pandas as pd\n",
        "data = pd.read_csv(\"https://raw.githubusercontent.com/fmmb/CEB/main/data/world-population-2022.csv\")"
      ]
    },
    {
      "cell_type": "markdown",
      "metadata": {
        "id": "lYWMMi1Fzw5j"
      },
      "source": [
        "### Analyse the dataset and select a subset of the data\n",
        "1. How many lines and columns?\n",
        "2. list all the columns\n",
        "3. Create a subset of the data, containing the columns `pop2022`, `area`, `Density`, `GrowthRate`, using the following command:\n",
        "\n",
        "        wp1 = data[['name', 'pop2022', 'area', 'GrowthRate', \"rank\"]].copy()\n",
        "\n"
      ]
    },
    {
      "cell_type": "markdown",
      "metadata": {
        "tags": [],
        "id": "VcQyVBn-zw5k"
      },
      "source": [
        "### Expore the data\n",
        "1. show the data for the first 5 countries\n",
        "2. show the data for the last 10 countries\n",
        "3. show the data from countries ranked between 90 and 100\n",
        "4. Check if `Portugal` is in the list\n",
        "5. Show the statistics for `Portugal`"
      ]
    },
    {
      "cell_type": "code",
      "execution_count": 1,
      "metadata": {
        "collapsed": true,
        "id": "NDvGsC6Qzw5k"
      },
      "outputs": [],
      "source": [
        "data.tail(10)\n",
        "data[(data['rank'] >= 90) & (data['rank'] <= 100)]\n",
        "'Portugal' in data['name'].values\n",
        "data[data['name'] == 'Portugal']"
      ]
    },
    {
      "cell_type": "markdown",
      "metadata": {
        "id": "0K-n3V9czw5k"
      },
      "source": [
        "### Operate on data\n",
        "2. Add a new country named `Tamriel` with a population of 3500000 and an area of 10000000 square meters\n",
        "\n",
        "3. Change the area of `Tamriel` to 9000000\n",
        "\n",
        "4. Create a new column `density`, based on the `area` and `pop2022`, which corresponds to the number of people per square meters. Note that the population count is in thousands.\n",
        "\n",
        "5. Check that this column has similar values to the column `Density` in the original data\n",
        "\n",
        "6. Create a new dataframe `wp2`, where the country name is the dataframe index"
      ]
    },
    {
      "cell_type": "code",
      "execution_count": 4,
      "metadata": {
        "id": "FRIMAyjuzw5k"
      },
      "outputs": [],
      "source": [
        "new_row = {'name': 'Tamriel', 'pop2022': 3500000, 'area': 10000000, 'CCA3': 'TAM', 'continent': 'Nirn', 'GrowthRate': 0.0, 'rank': len(data) + 1, 'Density': 0}\n",
        "data = pd.concat([data, pd.DataFrame([new_row])], ignore_index=True)"
      ]
    },
    {
      "cell_type": "code",
      "source": [
        "data.loc[data['name'] == 'Tamriel', 'area'] = 9000000"
      ],
      "metadata": {
        "id": "0vv306qbF7S4"
      },
      "execution_count": null,
      "outputs": []
    },
    {
      "cell_type": "code",
      "source": [
        "data['density'] = data['pop2022'] / data['area']"
      ],
      "metadata": {
        "id": "bAYnzA_RF-L_"
      },
      "execution_count": null,
      "outputs": []
    },
    {
      "cell_type": "code",
      "source": [
        "# Compare the two columns (e.g., by calculating the difference)\n",
        "density_diff = data['density'] - data['Density']\n",
        "\n",
        "# Print some statistics or visualize the differences\n",
        "print(density_diff.describe())\n",
        "# or\n",
        "# import matplotlib.pyplot as plt\n",
        "# plt.plot(density_diff)\n",
        "# plt.show()"
      ],
      "metadata": {
        "id": "B_59AgKgGBTD"
      },
      "execution_count": null,
      "outputs": []
    },
    {
      "cell_type": "code",
      "source": [
        "wp2 = data.set_index('name')"
      ],
      "metadata": {
        "id": "jLJgaOCaGFlz"
      },
      "execution_count": null,
      "outputs": []
    },
    {
      "cell_type": "markdown",
      "metadata": {
        "id": "tdF-pItXzw5l"
      },
      "source": [
        "### Perform calculations\n",
        "\n",
        "1. Calculate the `mean` of the area of the 10 most poputaled countries\n",
        "2. How many countries have a GrowthRate above 1.03?\n",
        "3. How many countries have an area above 1 million square meteres?"
      ]
    },
    {
      "cell_type": "code",
      "execution_count": 1,
      "metadata": {
        "id": "NqxFxQrpzw5l"
      },
      "outputs": [],
      "source": [
        "# Sort by population and get the top 10\n",
        "top_10_populated = data.sort_values(by='pop2022', ascending=False).head(10)\n",
        "\n",
        "# Calculate the mean area of these countries\n",
        "mean_area = top_10_populated['area'].mean()\n",
        "\n",
        "# To see the output, run the code."
      ]
    },
    {
      "cell_type": "code",
      "source": [
        "# Filter countries with GrowthRate > 1.03\n",
        "growth_rate_above_103 = data[data['GrowthRate'] > 1.03]\n",
        "\n",
        "# Count the number of countries\n",
        "num_countries = len(growth_rate_above_103)"
      ],
      "metadata": {
        "id": "1mHsOg44GSYE"
      },
      "execution_count": null,
      "outputs": []
    },
    {
      "cell_type": "code",
      "source": [
        "# Filter countries with area > 1,000,000\n",
        "area_above_1_million = data[data['area'] > 1000000]\n",
        "\n",
        "# Count the number of countries\n",
        "num_countries = len(area_above_1_million)\n",
        "\n",
        "# To see the output, run the code."
      ],
      "metadata": {
        "id": "xCZ2e5xXGWMx"
      },
      "execution_count": null,
      "outputs": []
    },
    {
      "cell_type": "markdown",
      "source": [
        "# Exercise 3 - Aggregate and group data\n",
        "\n",
        "Use the IMDB dataset available in moodle `IMDB-Movie-Data.csv`"
      ],
      "metadata": {
        "id": "FAkEGrYE-lvb"
      }
    },
    {
      "cell_type": "code",
      "source": [
        "movies = pd.read_csv(\"IMDB-Movie-Data.csv\")"
      ],
      "metadata": {
        "id": "BwgZXTs--2d8",
        "colab": {
          "base_uri": "https://localhost:8080/",
          "height": 316
        },
        "outputId": "f5dd9c42-8de3-4800-df87-00f32a4d6c80"
      },
      "execution_count": 2,
      "outputs": [
        {
          "output_type": "error",
          "ename": "FileNotFoundError",
          "evalue": "[Errno 2] No such file or directory: 'IMDB-Movie-Data.csv'",
          "traceback": [
            "\u001b[0;31m---------------------------------------------------------------------------\u001b[0m",
            "\u001b[0;31mFileNotFoundError\u001b[0m                         Traceback (most recent call last)",
            "\u001b[0;32m<ipython-input-2-8139d2feadf8>\u001b[0m in \u001b[0;36m<cell line: 0>\u001b[0;34m()\u001b[0m\n\u001b[0;32m----> 1\u001b[0;31m \u001b[0mmovies\u001b[0m \u001b[0;34m=\u001b[0m \u001b[0mpd\u001b[0m\u001b[0;34m.\u001b[0m\u001b[0mread_csv\u001b[0m\u001b[0;34m(\u001b[0m\u001b[0;34m\"IMDB-Movie-Data.csv\"\u001b[0m\u001b[0;34m)\u001b[0m\u001b[0;34m\u001b[0m\u001b[0;34m\u001b[0m\u001b[0m\n\u001b[0m",
            "\u001b[0;32m/usr/local/lib/python3.11/dist-packages/pandas/io/parsers/readers.py\u001b[0m in \u001b[0;36mread_csv\u001b[0;34m(filepath_or_buffer, sep, delimiter, header, names, index_col, usecols, dtype, engine, converters, true_values, false_values, skipinitialspace, skiprows, skipfooter, nrows, na_values, keep_default_na, na_filter, verbose, skip_blank_lines, parse_dates, infer_datetime_format, keep_date_col, date_parser, date_format, dayfirst, cache_dates, iterator, chunksize, compression, thousands, decimal, lineterminator, quotechar, quoting, doublequote, escapechar, comment, encoding, encoding_errors, dialect, on_bad_lines, delim_whitespace, low_memory, memory_map, float_precision, storage_options, dtype_backend)\u001b[0m\n\u001b[1;32m   1024\u001b[0m     \u001b[0mkwds\u001b[0m\u001b[0;34m.\u001b[0m\u001b[0mupdate\u001b[0m\u001b[0;34m(\u001b[0m\u001b[0mkwds_defaults\u001b[0m\u001b[0;34m)\u001b[0m\u001b[0;34m\u001b[0m\u001b[0;34m\u001b[0m\u001b[0m\n\u001b[1;32m   1025\u001b[0m \u001b[0;34m\u001b[0m\u001b[0m\n\u001b[0;32m-> 1026\u001b[0;31m     \u001b[0;32mreturn\u001b[0m \u001b[0m_read\u001b[0m\u001b[0;34m(\u001b[0m\u001b[0mfilepath_or_buffer\u001b[0m\u001b[0;34m,\u001b[0m \u001b[0mkwds\u001b[0m\u001b[0;34m)\u001b[0m\u001b[0;34m\u001b[0m\u001b[0;34m\u001b[0m\u001b[0m\n\u001b[0m\u001b[1;32m   1027\u001b[0m \u001b[0;34m\u001b[0m\u001b[0m\n\u001b[1;32m   1028\u001b[0m \u001b[0;34m\u001b[0m\u001b[0m\n",
            "\u001b[0;32m/usr/local/lib/python3.11/dist-packages/pandas/io/parsers/readers.py\u001b[0m in \u001b[0;36m_read\u001b[0;34m(filepath_or_buffer, kwds)\u001b[0m\n\u001b[1;32m    618\u001b[0m \u001b[0;34m\u001b[0m\u001b[0m\n\u001b[1;32m    619\u001b[0m     \u001b[0;31m# Create the parser.\u001b[0m\u001b[0;34m\u001b[0m\u001b[0;34m\u001b[0m\u001b[0m\n\u001b[0;32m--> 620\u001b[0;31m     \u001b[0mparser\u001b[0m \u001b[0;34m=\u001b[0m \u001b[0mTextFileReader\u001b[0m\u001b[0;34m(\u001b[0m\u001b[0mfilepath_or_buffer\u001b[0m\u001b[0;34m,\u001b[0m \u001b[0;34m**\u001b[0m\u001b[0mkwds\u001b[0m\u001b[0;34m)\u001b[0m\u001b[0;34m\u001b[0m\u001b[0;34m\u001b[0m\u001b[0m\n\u001b[0m\u001b[1;32m    621\u001b[0m \u001b[0;34m\u001b[0m\u001b[0m\n\u001b[1;32m    622\u001b[0m     \u001b[0;32mif\u001b[0m \u001b[0mchunksize\u001b[0m \u001b[0;32mor\u001b[0m \u001b[0miterator\u001b[0m\u001b[0;34m:\u001b[0m\u001b[0;34m\u001b[0m\u001b[0;34m\u001b[0m\u001b[0m\n",
            "\u001b[0;32m/usr/local/lib/python3.11/dist-packages/pandas/io/parsers/readers.py\u001b[0m in \u001b[0;36m__init__\u001b[0;34m(self, f, engine, **kwds)\u001b[0m\n\u001b[1;32m   1618\u001b[0m \u001b[0;34m\u001b[0m\u001b[0m\n\u001b[1;32m   1619\u001b[0m         \u001b[0mself\u001b[0m\u001b[0;34m.\u001b[0m\u001b[0mhandles\u001b[0m\u001b[0;34m:\u001b[0m \u001b[0mIOHandles\u001b[0m \u001b[0;34m|\u001b[0m \u001b[0;32mNone\u001b[0m \u001b[0;34m=\u001b[0m \u001b[0;32mNone\u001b[0m\u001b[0;34m\u001b[0m\u001b[0;34m\u001b[0m\u001b[0m\n\u001b[0;32m-> 1620\u001b[0;31m         \u001b[0mself\u001b[0m\u001b[0;34m.\u001b[0m\u001b[0m_engine\u001b[0m \u001b[0;34m=\u001b[0m \u001b[0mself\u001b[0m\u001b[0;34m.\u001b[0m\u001b[0m_make_engine\u001b[0m\u001b[0;34m(\u001b[0m\u001b[0mf\u001b[0m\u001b[0;34m,\u001b[0m \u001b[0mself\u001b[0m\u001b[0;34m.\u001b[0m\u001b[0mengine\u001b[0m\u001b[0;34m)\u001b[0m\u001b[0;34m\u001b[0m\u001b[0;34m\u001b[0m\u001b[0m\n\u001b[0m\u001b[1;32m   1621\u001b[0m \u001b[0;34m\u001b[0m\u001b[0m\n\u001b[1;32m   1622\u001b[0m     \u001b[0;32mdef\u001b[0m \u001b[0mclose\u001b[0m\u001b[0;34m(\u001b[0m\u001b[0mself\u001b[0m\u001b[0;34m)\u001b[0m \u001b[0;34m->\u001b[0m \u001b[0;32mNone\u001b[0m\u001b[0;34m:\u001b[0m\u001b[0;34m\u001b[0m\u001b[0;34m\u001b[0m\u001b[0m\n",
            "\u001b[0;32m/usr/local/lib/python3.11/dist-packages/pandas/io/parsers/readers.py\u001b[0m in \u001b[0;36m_make_engine\u001b[0;34m(self, f, engine)\u001b[0m\n\u001b[1;32m   1878\u001b[0m                 \u001b[0;32mif\u001b[0m \u001b[0;34m\"b\"\u001b[0m \u001b[0;32mnot\u001b[0m \u001b[0;32min\u001b[0m \u001b[0mmode\u001b[0m\u001b[0;34m:\u001b[0m\u001b[0;34m\u001b[0m\u001b[0;34m\u001b[0m\u001b[0m\n\u001b[1;32m   1879\u001b[0m                     \u001b[0mmode\u001b[0m \u001b[0;34m+=\u001b[0m \u001b[0;34m\"b\"\u001b[0m\u001b[0;34m\u001b[0m\u001b[0;34m\u001b[0m\u001b[0m\n\u001b[0;32m-> 1880\u001b[0;31m             self.handles = get_handle(\n\u001b[0m\u001b[1;32m   1881\u001b[0m                 \u001b[0mf\u001b[0m\u001b[0;34m,\u001b[0m\u001b[0;34m\u001b[0m\u001b[0;34m\u001b[0m\u001b[0m\n\u001b[1;32m   1882\u001b[0m                 \u001b[0mmode\u001b[0m\u001b[0;34m,\u001b[0m\u001b[0;34m\u001b[0m\u001b[0;34m\u001b[0m\u001b[0m\n",
            "\u001b[0;32m/usr/local/lib/python3.11/dist-packages/pandas/io/common.py\u001b[0m in \u001b[0;36mget_handle\u001b[0;34m(path_or_buf, mode, encoding, compression, memory_map, is_text, errors, storage_options)\u001b[0m\n\u001b[1;32m    871\u001b[0m         \u001b[0;32mif\u001b[0m \u001b[0mioargs\u001b[0m\u001b[0;34m.\u001b[0m\u001b[0mencoding\u001b[0m \u001b[0;32mand\u001b[0m \u001b[0;34m\"b\"\u001b[0m \u001b[0;32mnot\u001b[0m \u001b[0;32min\u001b[0m \u001b[0mioargs\u001b[0m\u001b[0;34m.\u001b[0m\u001b[0mmode\u001b[0m\u001b[0;34m:\u001b[0m\u001b[0;34m\u001b[0m\u001b[0;34m\u001b[0m\u001b[0m\n\u001b[1;32m    872\u001b[0m             \u001b[0;31m# Encoding\u001b[0m\u001b[0;34m\u001b[0m\u001b[0;34m\u001b[0m\u001b[0m\n\u001b[0;32m--> 873\u001b[0;31m             handle = open(\n\u001b[0m\u001b[1;32m    874\u001b[0m                 \u001b[0mhandle\u001b[0m\u001b[0;34m,\u001b[0m\u001b[0;34m\u001b[0m\u001b[0;34m\u001b[0m\u001b[0m\n\u001b[1;32m    875\u001b[0m                 \u001b[0mioargs\u001b[0m\u001b[0;34m.\u001b[0m\u001b[0mmode\u001b[0m\u001b[0;34m,\u001b[0m\u001b[0;34m\u001b[0m\u001b[0;34m\u001b[0m\u001b[0m\n",
            "\u001b[0;31mFileNotFoundError\u001b[0m: [Errno 2] No such file or directory: 'IMDB-Movie-Data.csv'"
          ]
        }
      ]
    },
    {
      "cell_type": "markdown",
      "source": [
        "Group the movies by 'Genre' and calculate the average IMDb rating for each genre"
      ],
      "metadata": {
        "id": "vUOUI2Cy-8Ys"
      }
    },
    {
      "cell_type": "code",
      "source": [],
      "metadata": {
        "id": "N3MBSn-u_DlF"
      },
      "execution_count": null,
      "outputs": []
    },
    {
      "cell_type": "markdown",
      "source": [
        "Group the movies by 'Year' and count how many movies were released in each year."
      ],
      "metadata": {
        "id": "Ks6GdXdb_HXm"
      }
    },
    {
      "cell_type": "code",
      "source": [],
      "metadata": {
        "id": "VTS1PD45_LQO"
      },
      "execution_count": null,
      "outputs": []
    },
    {
      "cell_type": "markdown",
      "source": [
        "Create a pivot table showing the average rating of movies for each genre per year."
      ],
      "metadata": {
        "id": "10o3H5QJ_Lpl"
      }
    },
    {
      "cell_type": "code",
      "source": [],
      "metadata": {
        "id": "gbLGlra-_L52"
      },
      "execution_count": null,
      "outputs": []
    },
    {
      "cell_type": "markdown",
      "source": [
        "Use vectorized string operations to extract the first letter of each director's name\n"
      ],
      "metadata": {
        "id": "2Xs1f1ppAHSz"
      }
    },
    {
      "cell_type": "code",
      "source": [],
      "metadata": {
        "id": "H8qRSm2_AJWJ"
      },
      "execution_count": null,
      "outputs": []
    },
    {
      "cell_type": "markdown",
      "source": [
        "Find all movies whose title strats with the word 'The'"
      ],
      "metadata": {
        "id": "LYJ_mFPVAJpi"
      }
    },
    {
      "cell_type": "code",
      "source": [],
      "metadata": {
        "id": "jG9RmwAIAQOk"
      },
      "execution_count": null,
      "outputs": []
    },
    {
      "cell_type": "markdown",
      "source": [
        "Convert all movie titles to uppercase"
      ],
      "metadata": {
        "id": "Tbjtc_3zAQfS"
      }
    },
    {
      "cell_type": "code",
      "source": [],
      "metadata": {
        "id": "ov9KCHU0AUm6"
      },
      "execution_count": null,
      "outputs": []
    }
  ],
  "metadata": {
    "kernelspec": {
      "display_name": "Python 3",
      "language": "python",
      "name": "python3"
    },
    "language_info": {
      "codemirror_mode": {
        "name": "ipython",
        "version": 3
      },
      "file_extension": ".py",
      "mimetype": "text/x-python",
      "name": "python",
      "nbconvert_exporter": "python",
      "pygments_lexer": "ipython3",
      "version": "3.6.9"
    },
    "colab": {
      "provenance": []
    }
  },
  "nbformat": 4,
  "nbformat_minor": 0
}